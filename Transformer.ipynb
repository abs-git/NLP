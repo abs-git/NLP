{
  "nbformat": 4,
  "nbformat_minor": 0,
  "metadata": {
    "colab": {
      "name": "Transformer.ipynb",
      "provenance": [],
      "collapsed_sections": [],
      "authorship_tag": "ABX9TyPvQI7iHmYSmdaLKiYRqKQR",
      "include_colab_link": true
    },
    "kernelspec": {
      "name": "python3",
      "display_name": "Python 3"
    },
    "language_info": {
      "name": "python"
    },
    "gpuClass": "standard"
  },
  "cells": [
    {
      "cell_type": "markdown",
      "metadata": {
        "id": "view-in-github",
        "colab_type": "text"
      },
      "source": [
        "<a href=\"https://colab.research.google.com/github/abs-git/NLP/blob/main/Transformer.ipynb\" target=\"_parent\"><img src=\"https://colab.research.google.com/assets/colab-badge.svg\" alt=\"Open In Colab\"/></a>"
      ]
    },
    {
      "cell_type": "code",
      "execution_count": 2,
      "metadata": {
        "colab": {
          "base_uri": "https://localhost:8080/"
        },
        "id": "FbHZgP_mYEzv",
        "outputId": "97108592-3feb-4427-8acb-04dc46b01599"
      },
      "outputs": [
        {
          "output_type": "stream",
          "name": "stdout",
          "text": [
            "Drive already mounted at /content/gdrive; to attempt to forcibly remount, call drive.mount(\"/content/gdrive\", force_remount=True).\n"
          ]
        }
      ],
      "source": [
        "from google.colab import drive\n",
        "drive.mount('/content/gdrive')"
      ]
    },
    {
      "cell_type": "markdown",
      "source": [
        "# Load data"
      ],
      "metadata": {
        "id": "N6lcA1CaalW7"
      }
    },
    {
      "cell_type": "code",
      "source": [
        "# glue data load\n",
        "\n",
        "path = '/content/gdrive/MyDrive/Colab Notebooks/NLP'\n",
        "\n",
        "with open(path + '/glue_train.txt', 'r') as f:\n",
        "  train_sentences = f.readlines()\n",
        "\n",
        "for i, sen in enumerate(train_sentences):\n",
        "  train_sentences[i] = sen.rstrip(\"\\n\")\n",
        "\n",
        "with open(path + '/glue_test.txt', 'r') as f:\n",
        "  test_sentences = f.readlines()\n",
        "\n",
        "for i, sen in enumerate(test_sentences):\n",
        "  test_sentences[i] = sen.rstrip(\"\\n\")\n",
        "\n",
        "print(\"train : {}\".format(len(train_sentences)))\n",
        "print(\"test : {}\".format(len(test_sentences)))\n",
        "\n",
        "print(train_sentences[:2])\n",
        "print(test_sentences[:2])\n"
      ],
      "metadata": {
        "colab": {
          "base_uri": "https://localhost:8080/"
        },
        "id": "4UQLptJtYMTV",
        "outputId": "9368cd94-0df1-4429-b4bc-e1f2f2205546"
      },
      "execution_count": 3,
      "outputs": [
        {
          "output_type": "stream",
          "name": "stdout",
          "text": [
            "train : 8551\n",
            "test : 1063\n",
            "[\"Our friends won't buy this analysis, let alone the next one we propose.\", \"One more pseudo generalization and I'm giving up.\"]\n",
            "['Bill whistled past the house.', 'The car honked its way down the road.']\n"
          ]
        }
      ]
    },
    {
      "cell_type": "markdown",
      "source": [
        "# Create tokenizer"
      ],
      "metadata": {
        "id": "HusIb0I8aore"
      }
    },
    {
      "cell_type": "code",
      "source": [
        "!pip install tokenizers"
      ],
      "metadata": {
        "colab": {
          "base_uri": "https://localhost:8080/"
        },
        "id": "yXjLucLkZsYU",
        "outputId": "f659571f-e96f-418f-93b8-5df9e56581da"
      },
      "execution_count": 4,
      "outputs": [
        {
          "output_type": "stream",
          "name": "stdout",
          "text": [
            "Looking in indexes: https://pypi.org/simple, https://us-python.pkg.dev/colab-wheels/public/simple/\n",
            "Requirement already satisfied: tokenizers in /usr/local/lib/python3.7/dist-packages (0.12.1)\n"
          ]
        }
      ]
    },
    {
      "cell_type": "code",
      "source": [
        "from tokenizers import SentencePieceBPETokenizer\n",
        "\n",
        "tokenizer = SentencePieceBPETokenizer()\n",
        "\n",
        "train_path = path + '/glue_train.txt'\n",
        "\n",
        "vocab_size = 32000\n",
        "limit_alphabet = 5000\n",
        "\n",
        "tokenizer.train(files = train_path,\n",
        "                vocab_size = vocab_size,\n",
        "                limit_alphabet = limit_alphabet,\n",
        "                show_progress = True)\n"
      ],
      "metadata": {
        "id": "3uQK_ZpiYiJI"
      },
      "execution_count": 5,
      "outputs": []
    },
    {
      "cell_type": "code",
      "source": [
        "# test\n",
        "\n",
        "output = tokenizer.encode(test_sentences[0])\n",
        "decoded = tokenizer.decode(output.ids)\n",
        "\n",
        "print(output.tokens)\n",
        "print(output.ids)\n",
        "print(output.offsets)\n",
        "print(decoded)\n"
      ],
      "metadata": {
        "colab": {
          "base_uri": "https://localhost:8080/"
        },
        "id": "SvNoZ4CUZre8",
        "outputId": "57112e49-bc3e-470b-d04f-da6cfb18f1e4"
      },
      "execution_count": 6,
      "outputs": [
        {
          "output_type": "stream",
          "name": "stdout",
          "text": [
            "['▁Bill', '▁whistled', '▁past', '▁the', '▁house', '.']\n",
            "[197, 7963, 2495, 89, 746, 11]\n",
            "[(0, 4), (4, 13), (13, 18), (18, 22), (22, 28), (28, 29)]\n",
            "Bill whistled past the house.\n"
          ]
        }
      ]
    },
    {
      "cell_type": "markdown",
      "source": [
        "# Common Module"
      ],
      "metadata": {
        "id": "Q64ltF8tbXM0"
      }
    },
    {
      "cell_type": "code",
      "source": [
        "import torch\n",
        "import torch.nn as nn\n",
        "import torch.nn.functional as F"
      ],
      "metadata": {
        "id": "NBYDp4S7lwl6"
      },
      "execution_count": 7,
      "outputs": []
    },
    {
      "cell_type": "code",
      "source": [
        "# get inputs and zero-padding\n",
        "\n",
        "inputs = []\n",
        "for sen in train_sentences:\n",
        "  pieces = tokenizer.encode(sen)\n",
        "  inputs.append(torch.tensor(pieces.ids))\n",
        "\n",
        "inputs = torch.nn.utils.rnn.pad_sequence(inputs, batch_first=True, padding_value=0)\n",
        "\n",
        "print(inputs.shape)\n",
        "print(inputs[0].shape)\n",
        "print(inputs[0])\n"
      ],
      "metadata": {
        "colab": {
          "base_uri": "https://localhost:8080/"
        },
        "id": "362HbofRnDxA",
        "outputId": "509ac5a9-ab50-4291-f6df-e04bb2b9f163"
      },
      "execution_count": 8,
      "outputs": [
        {
          "output_type": "stream",
          "name": "stdout",
          "text": [
            "torch.Size([8551, 49])\n",
            "torch.Size([49])\n",
            "tensor([2389, 1210,  996,  666,  333, 7471,  562, 3491,   89, 2078,  533,  262,\n",
            "        1480, 1185,   11,    0,    0,    0,    0,    0,    0,    0,    0,    0,\n",
            "           0,    0,    0,    0,    0,    0,    0,    0,    0,    0,    0,    0,\n",
            "           0,    0,    0,    0,    0,    0,    0,    0,    0,    0,    0,    0,\n",
            "           0])\n"
          ]
        }
      ]
    },
    {
      "cell_type": "markdown",
      "source": [
        "## Embedding"
      ],
      "metadata": {
        "id": "QpSf0dShba15"
      }
    },
    {
      "cell_type": "code",
      "source": [
        "# input embedding\n",
        "\n",
        "vocab_size = tokenizer.get_vocab_size()\n",
        "hidden_size = 256\n",
        "\n",
        "input_embedding_table = nn.Embedding(vocab_size, hidden_size)\n",
        "\n",
        "input_embedding = input_embedding_table(inputs)\n",
        "\n",
        "print(input_embedding.size())"
      ],
      "metadata": {
        "colab": {
          "base_uri": "https://localhost:8080/"
        },
        "id": "y4ra8p1hbIoi",
        "outputId": "df66125c-d133-4c6d-a35d-4b1e4c8fff34"
      },
      "execution_count": 9,
      "outputs": [
        {
          "output_type": "stream",
          "name": "stdout",
          "text": [
            "torch.Size([8551, 49, 256])\n"
          ]
        }
      ]
    },
    {
      "cell_type": "code",
      "source": [
        "# position embedding (sinusoid encoding, 정현파)\n",
        "\n",
        "import numpy as np\n",
        "\n",
        "def get_position_embedding(seq_size, hidden_size):\n",
        "\n",
        "    def cal_angle(position, i_hidn):\n",
        "        return position / np.power(10000, 2 * (i_hidn // 2) / hidden_size)\n",
        "  \n",
        "    def get_posi_angle_vec(position):\n",
        "        return [cal_angle(position, i_hidn) for i_hidn in range(hidden_size)]\n",
        "\n",
        "    pos_embedding = np.array([get_posi_angle_vec(i_seq) for i_seq in range(seq_size)])\n",
        "    pos_embedding[:, 0::2] = np.sin(pos_embedding[:, 0::2])                       # even index sin \n",
        "    pos_embedding[:, 1::2] = np.cos(pos_embedding[:, 1::2])                       # odd index cos\n",
        "\n",
        "    return torch.from_numpy(pos_embedding).type(torch.FloatTensor)\n"
      ],
      "metadata": {
        "id": "M3RCDb97pdw6"
      },
      "execution_count": 10,
      "outputs": []
    },
    {
      "cell_type": "code",
      "source": [
        "import matplotlib.pyplot as plt\n",
        "\n",
        "seq_size = 300\n",
        "\n",
        "pos_embedding = get_position_embedding(seq_size, hidden_size)\n",
        "print(pos_embedding.shape)\n",
        "\n",
        "plt.pcolormesh(pos_embedding, cmap='RdBu')\n",
        "plt.xlabel('Depth')\n",
        "plt.xlim((0, hidden_size))\n",
        "plt.ylabel('Position')\n",
        "plt.colorbar()\n",
        "plt.show()\n",
        "\n"
      ],
      "metadata": {
        "colab": {
          "base_uri": "https://localhost:8080/",
          "height": 300
        },
        "id": "ARGbFXSqxl1J",
        "outputId": "ddd3a692-edfa-4713-9ce6-bb87ebbb7500"
      },
      "execution_count": 11,
      "outputs": [
        {
          "output_type": "stream",
          "name": "stdout",
          "text": [
            "torch.Size([300, 256])\n"
          ]
        },
        {
          "output_type": "display_data",
          "data": {
            "text/plain": [
              "<Figure size 432x288 with 2 Axes>"
            ],
            "image/png": "[encoded data removed]"
          },
          "metadata": {
            "needs_background": "light"
          }
        }
      ]
    },
    {
      "cell_type": "code",
      "source": [
        "pos_embedding_table = nn.Embedding.from_pretrained(pos_embedding, freeze = True)\n",
        "\n",
        "print(pos_embedding_table)\n",
        "\n",
        "# print(inputs)\n",
        "print(inputs.size())\n",
        "\n",
        "positions = torch.arange(inputs.size(1)).expand(inputs.size(0), inputs.size(1)).contiguous() + 1\n",
        "\n",
        "# print(positions)\n",
        "print(positions.shape)\n",
        "\n",
        "print(inputs.eq(0).shape)\n",
        "\n",
        "positions.masked_fill_(inputs.eq(0), 0)\n",
        "\n",
        "# print(positions)\n",
        "print(positions.shape)\n",
        "\n",
        "position_embedding = pos_embedding_table(positions)\n",
        "\n",
        "# print(position_embedding[0])\n",
        "print(position_embedding.size())\n"
      ],
      "metadata": {
        "colab": {
          "base_uri": "https://localhost:8080/"
        },
        "id": "tq6T7mOPyou4",
        "outputId": "a2550fc4-06fa-40b4-dee1-7fad6ad14f46"
      },
      "execution_count": 12,
      "outputs": [
        {
          "output_type": "stream",
          "name": "stdout",
          "text": [
            "Embedding(300, 256)\n",
            "torch.Size([8551, 49])\n",
            "torch.Size([8551, 49])\n",
            "torch.Size([8551, 49])\n",
            "torch.Size([8551, 49])\n",
            "torch.Size([8551, 49, 256])\n"
          ]
        }
      ]
    },
    {
      "cell_type": "code",
      "source": [
        "print(input_embedding.shape)\n",
        "print(position_embedding.shape)\n",
        "\n",
        "inputs_for_transformer = input_embedding + position_embedding\n",
        "\n",
        "print(inputs_for_transformer.shape)"
      ],
      "metadata": {
        "colab": {
          "base_uri": "https://localhost:8080/"
        },
        "id": "bDS1z41S10M_",
        "outputId": "8f21a76e-a3eb-4463-b033-94290b38f932"
      },
      "execution_count": 13,
      "outputs": [
        {
          "output_type": "stream",
          "name": "stdout",
          "text": [
            "torch.Size([8551, 49, 256])\n",
            "torch.Size([8551, 49, 256])\n",
            "torch.Size([8551, 49, 256])\n"
          ]
        }
      ]
    },
    {
      "cell_type": "markdown",
      "source": [
        "## Scaled Dot Product Attention\n"
      ],
      "metadata": {
        "id": "weRyvpoybe7V"
      }
    },
    {
      "cell_type": "code",
      "source": [
        "# input values (Query, Value, Key, Attention mask)\n",
        "# Query = Value = Key = Set of the Sentence\n",
        "\n",
        "\n",
        "def get_attention_mask(inputs):\n",
        "\n",
        "  attention_mask = inputs.eq(0)       # padding (0) position\n",
        "  # print(attention_mask.shape)\n",
        "\n",
        "  attention_mask = inputs.eq(0).unsqueeze(1)\n",
        "  # print(attention_mask.shape)\n",
        "\n",
        "  attention_mask = inputs.eq(0).unsqueeze(1).expand(inputs.size(0), inputs.size(1), inputs.size(1))\n",
        "  # print(attention_mask.shape)\n",
        "  # print(attention_mask[0])\n",
        "\n",
        "  return attention_mask\n",
        "\n",
        "\n",
        "Q = inputs_for_transformer\n",
        "K = inputs_for_transformer\n",
        "V = inputs_for_transformer\n",
        "\n",
        "attention_mask = get_attention_mask(inputs)\n"
      ],
      "metadata": {
        "id": "PquJ5SPAblh7"
      },
      "execution_count": 14,
      "outputs": []
    },
    {
      "cell_type": "code",
      "source": [
        "# self attention (Q = K = V)\n",
        "\n",
        "class ScaledDotProductAttention(nn.Module):\n",
        "  def __init__(self, head_dim):\n",
        "    super().__init__()\n",
        "    self.scale = 1 / np.sqrt(head_dim)\n",
        "\n",
        "  def forward(self, Q, K, V, attention_mask):\n",
        "    # print(Q.shape)\n",
        "    # print(K.shape)\n",
        "    # print(K.transpose(-1,-2).shape)\n",
        "    # print()\n",
        "\n",
        "    attention_scores = torch.matmul(Q, K.transpose(-1,-2))      # (batch_size, Q_size, K_size) / 단어 간 가중치 테이블\n",
        "    # print(attention_scores.shape)\n",
        "\n",
        "    attention_scores.mul_(self.scale)                         # (batch_size, Q_size, K_size)\n",
        "    # print(attention_scores.shape)\n",
        "\n",
        "    attention_scores.masked_fill_(attention_mask, -1e9)       # 0 -> -1e9\n",
        "    # print(attention_scores.shape)\n",
        "    # print(attention_scores[0])\n",
        "\n",
        "    attention_probs = nn.Softmax(dim=-1)(attention_scores)    # (batch_size, Q_size, V_dim)\n",
        "    # print(attention_probs.shape)\n",
        "    # print(attention_probs[0])\n",
        "\n",
        "    context = torch.matmul(attention_probs, V)                # (batch_size, Q_size, V_dim)\n",
        "    # print(context.shape)\n",
        "\n",
        "    return context, attention_probs\n",
        "\n"
      ],
      "metadata": {
        "id": "otrCu2Z_6nei"
      },
      "execution_count": 15,
      "outputs": []
    },
    {
      "cell_type": "code",
      "source": [
        "head_dim = 8\n",
        "\n",
        "attention = ScaledDotProductAttention(head_dim)\n",
        "\n",
        "context, attention_probs = attention(Q, K, V, attention_mask)\n",
        "\n",
        "print('context         : {}'.format(context.shape))\n",
        "print('attention probs : {}'.format(attention_probs.shape))\n"
      ],
      "metadata": {
        "colab": {
          "base_uri": "https://localhost:8080/"
        },
        "id": "8ShrJpqZ4X_q",
        "outputId": "7e5ed694-fdcf-44d4-f997-fd829cee6ead"
      },
      "execution_count": 16,
      "outputs": [
        {
          "output_type": "stream",
          "name": "stdout",
          "text": [
            "context         : torch.Size([8551, 49, 256])\n",
            "attention probs : torch.Size([8551, 49, 49])\n"
          ]
        }
      ]
    },
    {
      "cell_type": "markdown",
      "source": [
        "## Multi-Head Attention"
      ],
      "metadata": {
        "id": "HGDjiTK1bmlL"
      }
    },
    {
      "cell_type": "code",
      "source": [
        "# Divide N-heads\n",
        "\n",
        "class MultiHeadAttention(nn.Module):\n",
        "  def __init__(self, hidden_size, n_heads, head_dim):\n",
        "    super().__init__()\n",
        "\n",
        "    self.hidden_size = hidden_size\n",
        "    self.n_heads = n_heads\n",
        "    self.head_dim = head_dim\n",
        "    \n",
        "    self.W_Q = nn.Linear(hidden_size, n_heads * head_dim)\n",
        "    self.W_K = nn.Linear(hidden_size, n_heads * head_dim)\n",
        "    self.W_V = nn.Linear(hidden_size, n_heads * head_dim)\n",
        "\n",
        "    self.attention = ScaledDotProductAttention(head_dim)\n",
        "    self.linear = nn.Linear(n_heads * head_dim, hidden_size)\n",
        "\n",
        "  def forward(self, Q, K, V, attention_mask):\n",
        "    # print(Q.shape)\n",
        "    # print(K.shape)\n",
        "    # print(V.shape)\n",
        "    # print()\n",
        "\n",
        "    batch_size = Q.size(0)\n",
        "\n",
        "    Q_split = self.W_Q(Q)                                                       # (batch_size, Q_size, n_heads * head_dim)\n",
        "    Q_split = Q_split.view(batch_size, -1, self.n_heads, self.head_dim)         # (batch_size, Q_size, n_heads, head_dim)\n",
        "    Q_split = Q_split.transpose(1,2)                                            # (batch_size, n_heads, Q_size, head_dim)\n",
        "\n",
        "    K_split = self.W_K(K).view(batch_size, -1, self.n_heads, self.head_dim).transpose(1,2)     # (batch_size, n_heads, K_size, head_dim)\n",
        "    V_split = self.W_V(V).view(batch_size, -1, self.n_heads, self.head_dim).transpose(1,2)     # (bathc_size, n_heads, V_size, head_dim)\n",
        "\n",
        "    # print(Q_split.shape)\n",
        "    # print(K_split.shape)\n",
        "    # print(V_split.shape)\n",
        "    # print()\n",
        "\n",
        "    attention_mask = attention_mask.unsqueeze(1).repeat(1, self.n_heads, 1, 1)   # (batch_size, n_heads, Q_size, K_size)\n",
        "\n",
        "    context, attention_probs = self.attention(Q_split, K_split, V_split, attention_mask)\n",
        "\n",
        "    context = context.transpose(1,2).contiguous().view(batch_size, -1, self.n_heads * self.head_dim)\n",
        "\n",
        "    output = self.linear(context)       # (batch_size, n_heads, Q_size)\n",
        "\n",
        "    return output, attention_probs\n",
        "\n"
      ],
      "metadata": {
        "id": "uF4Zyxetbr_d"
      },
      "execution_count": 17,
      "outputs": []
    },
    {
      "cell_type": "code",
      "source": [
        "hidden_size = 256    # 위와 동일\n",
        "n_heads = 4\n",
        "head_dim = 8\n",
        "\n",
        "multi_head_attention = MultiHeadAttention(hidden_size, n_heads, head_dim)\n",
        "\n",
        "context, attention_probs = multi_head_attention(Q, K, V, attention_mask)\n",
        "\n",
        "print(context.shape)\n",
        "print(attention_probs.shape)\n",
        "print(attention_probs[0])\n",
        "\n"
      ],
      "metadata": {
        "colab": {
          "base_uri": "https://localhost:8080/"
        },
        "id": "K4cl6LROBq1l",
        "outputId": "6fb1674a-3aa3-4bc7-a23a-7805476f1dff"
      },
      "execution_count": 18,
      "outputs": [
        {
          "output_type": "stream",
          "name": "stdout",
          "text": [
            "torch.Size([8551, 49, 256])\n",
            "torch.Size([8551, 4, 49, 49])\n",
            "tensor([[[0.0352, 0.0623, 0.0631,  ..., 0.0000, 0.0000, 0.0000],\n",
            "         [0.0591, 0.0514, 0.0400,  ..., 0.0000, 0.0000, 0.0000],\n",
            "         [0.0515, 0.0339, 0.0354,  ..., 0.0000, 0.0000, 0.0000],\n",
            "         ...,\n",
            "         [0.0496, 0.0468, 0.0643,  ..., 0.0000, 0.0000, 0.0000],\n",
            "         [0.0496, 0.0468, 0.0643,  ..., 0.0000, 0.0000, 0.0000],\n",
            "         [0.0496, 0.0468, 0.0643,  ..., 0.0000, 0.0000, 0.0000]],\n",
            "\n",
            "        [[0.0514, 0.0408, 0.0584,  ..., 0.0000, 0.0000, 0.0000],\n",
            "         [0.0503, 0.0910, 0.0536,  ..., 0.0000, 0.0000, 0.0000],\n",
            "         [0.0624, 0.0473, 0.0591,  ..., 0.0000, 0.0000, 0.0000],\n",
            "         ...,\n",
            "         [0.0691, 0.0274, 0.0485,  ..., 0.0000, 0.0000, 0.0000],\n",
            "         [0.0691, 0.0274, 0.0485,  ..., 0.0000, 0.0000, 0.0000],\n",
            "         [0.0691, 0.0274, 0.0485,  ..., 0.0000, 0.0000, 0.0000]],\n",
            "\n",
            "        [[0.1281, 0.0736, 0.0670,  ..., 0.0000, 0.0000, 0.0000],\n",
            "         [0.0885, 0.0827, 0.0440,  ..., 0.0000, 0.0000, 0.0000],\n",
            "         [0.0342, 0.0496, 0.0397,  ..., 0.0000, 0.0000, 0.0000],\n",
            "         ...,\n",
            "         [0.1087, 0.0700, 0.0692,  ..., 0.0000, 0.0000, 0.0000],\n",
            "         [0.1087, 0.0700, 0.0692,  ..., 0.0000, 0.0000, 0.0000],\n",
            "         [0.1087, 0.0700, 0.0692,  ..., 0.0000, 0.0000, 0.0000]],\n",
            "\n",
            "        [[0.0331, 0.0853, 0.0531,  ..., 0.0000, 0.0000, 0.0000],\n",
            "         [0.0322, 0.0797, 0.0435,  ..., 0.0000, 0.0000, 0.0000],\n",
            "         [0.0568, 0.0353, 0.0548,  ..., 0.0000, 0.0000, 0.0000],\n",
            "         ...,\n",
            "         [0.0392, 0.0711, 0.0781,  ..., 0.0000, 0.0000, 0.0000],\n",
            "         [0.0392, 0.0711, 0.0781,  ..., 0.0000, 0.0000, 0.0000],\n",
            "         [0.0392, 0.0711, 0.0781,  ..., 0.0000, 0.0000, 0.0000]]],\n",
            "       grad_fn=<SelectBackward0>)\n"
          ]
        }
      ]
    },
    {
      "cell_type": "markdown",
      "source": [
        "## Masked Multi-Head Attention"
      ],
      "metadata": {
        "id": "B2IFI1tEbuHv"
      }
    },
    {
      "cell_type": "code",
      "source": [
        "# masked multi-head attention for decoder of the tansformer\n",
        "\n",
        "def get_attention_mask_for_decoder(inputs):\n",
        "  # print(inputs.shape)\n",
        "\n",
        "  decoder_mask = torch.ones_like(inputs)\n",
        "  # print(decoder_mask.shape)\n",
        "\n",
        "  decoder_mask = decoder_mask.unsqueeze(-1)\n",
        "  decoder_mask=  decoder_mask.expand(inputs.size(0), inputs.size(1), inputs.size(1))\n",
        "  # print(decoder_mask.shape)\n",
        "  # print(decoder_mask[0])\n",
        "\n",
        "  decoder_mask = decoder_mask.triu(diagonal = 1)    # 주 대각선 아래ㄹ 모두 0으로 치환 (상삼각행렬 생성)\n",
        "  # print(decoder_mask.shape)\n",
        "  # print(decoder_mask[0])\n",
        "\n",
        "  return decoder_mask\n"
      ],
      "metadata": {
        "id": "IxW4kIF9byJc"
      },
      "execution_count": 19,
      "outputs": []
    },
    {
      "cell_type": "code",
      "source": [
        "Q = inputs_for_transformer\n",
        "K = inputs_for_transformer\n",
        "V = inputs_for_transformer\n",
        "\n",
        "attention_mask = get_attention_mask(inputs)   # zero padding\n",
        "print(attention_mask[0])\n",
        "print()\n",
        "\n",
        "attention_mask_for_decoder = get_attention_mask_for_decoder(inputs)   # triangular matrix\n",
        "print(attention_mask_for_decoder[0])\n",
        "print()\n",
        "\n",
        "attention_mask_for_decoder = torch.gt((attention_mask + attention_mask_for_decoder), 0)\n",
        "print(attention_mask_for_decoder[0])\n"
      ],
      "metadata": {
        "colab": {
          "base_uri": "https://localhost:8080/"
        },
        "id": "91L_FGZ3mjUO",
        "outputId": "c136d8ef-670a-4db3-f2aa-d6140382a06f"
      },
      "execution_count": 19,
      "outputs": [
        {
          "output_type": "stream",
          "name": "stdout",
          "text": [
            "torch.Size([8551, 49])\n",
            "torch.Size([8551, 1, 49])\n",
            "torch.Size([8551, 49, 49])\n",
            "tensor([[False, False, False,  ...,  True,  True,  True],\n",
            "        [False, False, False,  ...,  True,  True,  True],\n",
            "        [False, False, False,  ...,  True,  True,  True],\n",
            "        ...,\n",
            "        [False, False, False,  ...,  True,  True,  True],\n",
            "        [False, False, False,  ...,  True,  True,  True],\n",
            "        [False, False, False,  ...,  True,  True,  True]])\n",
            "tensor([[False, False, False,  ...,  True,  True,  True],\n",
            "        [False, False, False,  ...,  True,  True,  True],\n",
            "        [False, False, False,  ...,  True,  True,  True],\n",
            "        ...,\n",
            "        [False, False, False,  ...,  True,  True,  True],\n",
            "        [False, False, False,  ...,  True,  True,  True],\n",
            "        [False, False, False,  ...,  True,  True,  True]])\n",
            "\n",
            "tensor([[0, 1, 1,  ..., 1, 1, 1],\n",
            "        [0, 0, 1,  ..., 1, 1, 1],\n",
            "        [0, 0, 0,  ..., 1, 1, 1],\n",
            "        ...,\n",
            "        [0, 0, 0,  ..., 0, 1, 1],\n",
            "        [0, 0, 0,  ..., 0, 0, 1],\n",
            "        [0, 0, 0,  ..., 0, 0, 0]])\n",
            "\n",
            "tensor([[False,  True,  True,  ...,  True,  True,  True],\n",
            "        [False, False,  True,  ...,  True,  True,  True],\n",
            "        [False, False, False,  ...,  True,  True,  True],\n",
            "        ...,\n",
            "        [False, False, False,  ...,  True,  True,  True],\n",
            "        [False, False, False,  ...,  True,  True,  True],\n",
            "        [False, False, False,  ...,  True,  True,  True]])\n"
          ]
        }
      ]
    },
    {
      "cell_type": "markdown",
      "source": [
        "## FeedForward layer"
      ],
      "metadata": {
        "id": "P57CFkaBb1Cb"
      }
    },
    {
      "cell_type": "code",
      "source": [
        "# linear -> max -> linear\n",
        "\n",
        "class FeedForward(nn.Module):\n",
        "  def __init__(self, hidden_size):\n",
        "    super().__init__()\n",
        "\n",
        "    self.linear_1 = nn.Linear(in_features = hidden_size, out_features = hidden_size * 4)\n",
        "    self.linear_2 = nn.Linear(in_features = hidden_size *4, out_features = hidden_size)\n",
        "    self.activation = F.gelu\n",
        "\n",
        "  def forward(self, inputs):\n",
        "\n",
        "    # print(inputs.shape)\n",
        "\n",
        "    output = self.linear_1(inputs)\n",
        "    # print(output.shape)\n",
        "\n",
        "    output = output.transpose(1,2)\n",
        "    # print(output.shape)\n",
        "\n",
        "    output = self.activation(output)\n",
        "    # print(output.shape)\n",
        "\n",
        "    output = self.linear_2(output.transpose(1,2))\n",
        "    # print(output.shape)\n",
        "\n",
        "\n",
        "    return output\n"
      ],
      "metadata": {
        "id": "xdqOuUfKb6bu"
      },
      "execution_count": 20,
      "outputs": []
    },
    {
      "cell_type": "code",
      "source": [
        "hidden_size = 256\n",
        "\n",
        "FF = FeedForward(hidden_size)\n",
        "\n",
        "output = FF(context)\n",
        "\n",
        "print()\n",
        "print('input shape  : {}'.format(context.shape))\n",
        "print('output shape : {}'.format(output.shape))\n",
        "\n"
      ],
      "metadata": {
        "colab": {
          "base_uri": "https://localhost:8080/"
        },
        "id": "3lpjAebCsS8v",
        "outputId": "1d4b2ff0-6281-4d3c-ef66-c44ad330efb9"
      },
      "execution_count": 21,
      "outputs": [
        {
          "output_type": "stream",
          "name": "stdout",
          "text": [
            "torch.Size([8551, 49, 256])\n",
            "torch.Size([8551, 49, 1024])\n",
            "torch.Size([8551, 1024, 49])\n",
            "torch.Size([8551, 1024, 49])\n",
            "torch.Size([8551, 49, 256])\n",
            "\n",
            "input shape  : torch.Size([8551, 49, 256])\n",
            "output shape : torch.Size([8551, 49, 256])\n"
          ]
        }
      ]
    },
    {
      "cell_type": "markdown",
      "source": [
        "# Transformer"
      ],
      "metadata": {
        "id": "UjA72OaScSs4"
      }
    },
    {
      "cell_type": "markdown",
      "source": [
        "## Parameters"
      ],
      "metadata": {
        "id": "yVmGniLqJTkN"
      }
    },
    {
      "cell_type": "code",
      "source": [
        "# parameters\n",
        "\n",
        "inputs = inputs               # (8551, 49)\n",
        "vocab_size = vocab_size\n",
        "seq_size = 256\n",
        "\n",
        "# Q = inputs_for_transformer          # Self attention을 사용할 예정이라 사실 의미가 없음.\n",
        "# K = inputs_for_transformer\n",
        "# V = inputs_for_transformer\n",
        "\n",
        "# attention_mask = get_attention_mask(inputs)\n",
        "\n",
        "# attention_mask_for_decoder = get_attention_mask_for_decoder(inputs)   # triangular matrix\n",
        "# attention_mask_for_decoder = torch.gt((attention_mask + attention_mask_for_decoder), 0)\n",
        "\n",
        "hidden_size = 256\n",
        "n_heads = 2\n",
        "head_dim = 4\n",
        "\n",
        "norm_epsilon = 0.00001\n",
        "n_layers = 4\n",
        "\n"
      ],
      "metadata": {
        "id": "XgQlvD3dGGdi"
      },
      "execution_count": 21,
      "outputs": []
    },
    {
      "cell_type": "markdown",
      "source": [
        "## Encoder"
      ],
      "metadata": {
        "id": "LCjRmGlqIvTR"
      }
    },
    {
      "cell_type": "code",
      "source": [
        "class EncoderLayer(nn.Module):\n",
        "  def __init__(self, hidden_size, n_heads, head_dim, epsilon):\n",
        "    super().__init__()\n",
        "\n",
        "    self.attention = MultiHeadAttention(hidden_size, n_heads, head_dim)\n",
        "    self.norm_layer_1 = nn.LayerNorm(hidden_size, eps=epsilon)              # Add & Norm\n",
        "\n",
        "    self.feed_forward = FeedForward(hidden_size)\n",
        "    self.norm_layer_2 = nn.LayerNorm(hidden_size, eps=epsilon)              # Add & Norm\n",
        "\n",
        "  def forward(self, encoder_inputs, attention_mask):\n",
        "\n",
        "    Q = encoder_inputs\n",
        "    V = encoder_inputs\n",
        "    K = encoder_inputs\n",
        "\n",
        "    encoder_attention_output, encoder_attention_probs = self.attention(Q, V, K, attention_mask)\n",
        "\n",
        "    encoder_attention_output = self.norm_layer_1(encoder_inputs + encoder_attention_output)\n",
        "\n",
        "    feed_forward_output = self.feed_forward(encoder_attention_output)\n",
        "\n",
        "    feed_forward_output = self.norm_layer_2(feed_forward_output + encoder_attention_output)\n",
        " \n",
        "    return feed_forward_output, encoder_attention_probs\n"
      ],
      "metadata": {
        "id": "N6qKbLaHcIfe"
      },
      "execution_count": 22,
      "outputs": []
    },
    {
      "cell_type": "code",
      "source": [
        "encoder_layers = EncoderLayer(hidden_size, n_heads, head_dim, norm_epsilon)\n",
        "\n",
        "encoder_output, attention_probs = encoder_layers(inputs, attention_mask)\n",
        "\n",
        "print()\n",
        "print('encoder output  : {}'.format(encoder_output.shape))\n",
        "print('attention probs : {}'.format(attention_probs.shape))\n"
      ],
      "metadata": {
        "colab": {
          "base_uri": "https://localhost:8080/"
        },
        "id": "eXmQjm3XI6O9",
        "outputId": "206ec728-d9f0-4ba1-ecf3-d6fba7daee2a"
      },
      "execution_count": null,
      "outputs": [
        {
          "output_type": "stream",
          "name": "stdout",
          "text": [
            "torch.Size([8551, 49, 256])\n",
            "torch.Size([8551, 49, 256])\n",
            "torch.Size([8551, 49, 256])\n",
            "\n",
            "torch.Size([8551, 2, 49, 4])\n",
            "torch.Size([8551, 2, 49, 4])\n",
            "torch.Size([8551, 2, 49, 4])\n",
            "\n",
            "torch.Size([8551, 49, 256])\n",
            "torch.Size([8551, 49, 1024])\n",
            "torch.Size([8551, 1024, 49])\n",
            "torch.Size([8551, 1024, 49])\n",
            "torch.Size([8551, 49, 256])\n"
          ]
        }
      ]
    },
    {
      "cell_type": "code",
      "source": [
        "class Encoder(nn.Module):\n",
        "  def __init__(self, hidden_size, n_heads, head_dim, norm_epsilon, voacb_size, seq_size, n_layers):\n",
        "    super().__init__()\n",
        "\n",
        "    self.input_embedding_table = nn.Embedding(vocab_size, hidden_size)\n",
        "\n",
        "    pos_embedding_matrix = get_position_embedding(seq_size, hidden_size)\n",
        "    self.pos_embedding_table = nn.Embedding.from_pretrained(pos_embedding_matrix, freeze = True)\n",
        "\n",
        "    self.encoder_layers = nn.ModuleList()\n",
        "    for _ in range(n_layers):\n",
        "      encoder = EncoderLayer(hidden_size, n_heads, head_dim, norm_epsilon)\n",
        "      self.encoder_layers.append(encoder)\n",
        "\n",
        "\n",
        "  def forward(self, encoder_inputs):\n",
        "\n",
        "    positions = torch.arange(encoder_inputs.size(1)).expand(encoder_inputs.size(0), encoder_inputs.size(1)).contiguous() + 1\n",
        "    pos_mask = encoder_inputs.eq(0)\n",
        "    positions.masked_fill_(pos_mask, 0)\n",
        "\n",
        "    outputs = self.input_embedding_table(encoder_inputs) + self.pos_embedding_table(positions)\n",
        "\n",
        "    attention_mask = get_attention_mask(encoder_inputs)\n",
        "\n",
        "    attention_probs_list = []\n",
        "    for encoder in self.encoder_layers:\n",
        "      outputs, attention_probs = encoder(outputs, attention_mask)\n",
        "      attention_probs_list.append(attention_probs)\n",
        "\n",
        "    \n",
        "    return outputs, attention_probs\n",
        "\n"
      ],
      "metadata": {
        "id": "2AYCWLrhVLS9"
      },
      "execution_count": 25,
      "outputs": []
    },
    {
      "cell_type": "code",
      "source": [
        "\n",
        "encoder = Encoder(hidden_size, n_heads, head_dim, norm_epsilon, vocab_size, seq_size, n_layers)\n",
        "\n",
        "encoder_outputs, attention_probs = encoder(inputs)\n",
        "\n",
        "print('encoder outputs : {}'.format(encoder_outputs))\n",
        "print('attention probs : {}'.format(attention_probs))\n"
      ],
      "metadata": {
        "colab": {
          "base_uri": "https://localhost:8080/"
        },
        "id": "SMCSRx1QWlI8",
        "outputId": "94c6a4f4-855e-42ab-a021-0fb2cb56da1b"
      },
      "execution_count": null,
      "outputs": [
        {
          "output_type": "stream",
          "name": "stdout",
          "text": [
            "torch.Size([256, 256])\n",
            "torch.Size([8551, 49])\n",
            "torch.Size([8551, 1, 49])\n",
            "torch.Size([8551, 49, 49])\n",
            "tensor([[False, False, False,  ...,  True,  True,  True],\n",
            "        [False, False, False,  ...,  True,  True,  True],\n",
            "        [False, False, False,  ...,  True,  True,  True],\n",
            "        ...,\n",
            "        [False, False, False,  ...,  True,  True,  True],\n",
            "        [False, False, False,  ...,  True,  True,  True],\n",
            "        [False, False, False,  ...,  True,  True,  True]])\n"
          ]
        }
      ]
    },
    {
      "cell_type": "markdown",
      "source": [
        "## Decoder"
      ],
      "metadata": {
        "id": "vUnZ9jYEIzya"
      }
    },
    {
      "cell_type": "code",
      "source": [
        "class DecoderLayer(nn.Module):\n",
        "  def __init__(self, hidden_size, n_heads, head_dim, epsilon):\n",
        "    super().__init__()\n",
        "\n",
        "    self.attention = MultiHeadAttention(hidden_size, n_heads, head_dim)\n",
        "    self.norm_layer_1 = nn.LayerNorm(hidden_size, eps=epsilon)              # Add & Norm\n",
        "\n",
        "    self.masked_attention = MultiHeadAttention(hidden_size, n_heads, head_dim)\n",
        "    self.norm_layer_2 = nn.LayerNorm(hidden_size, eps=epsilon)\n",
        "\n",
        "    self.feed_forward = FeedForward(hidden_size)\n",
        "    self.norm_layer_3 = nn.LayerNorm(hidden_size, eps=epsilon)\n",
        "\n",
        "\n",
        "  def forward(self, decoder_inputs, encoder_outputs, attention_mask, attention_mask_for_decoder):\n",
        "\n",
        "    Q = decoder_inputs,\n",
        "    V = decoder_inputs,\n",
        "    K = decoder_inputs\n",
        "\n",
        "    attention_outputs, attention_probs = self.attention(Q, V, K, attention_mask)\n",
        "    attention_outputs = self.norm_layer_1(decoder_inputs + attention_outputs)\n",
        "\n",
        "    dec_enc_attention_outputs, dec_enc_attention_probs = self.masked_attention(attention_outputs, encoder_outputs, decoder_inputs, attention_mask_for_decoder)\n",
        "    dec_enc_attention_outputs = self.norm_layer_2(attention_outputs + dec_enc_attention_outputs)\n",
        "\n",
        "    feed_forward_output = self.feed_forward(dec_enc_attention_outputs)\n",
        "    feed_forward_output = self.norm_layer_3(dec_enc_attention_outputs + feed_forward_output)\n",
        "\n",
        "    return feed_forward_output, attention_outputs, dec_enc_attention_probs\n",
        "\n"
      ],
      "metadata": {
        "id": "yp_KlypjI1Je"
      },
      "execution_count": 24,
      "outputs": []
    },
    {
      "cell_type": "code",
      "source": [
        "class Decoder(nn.Module):\n",
        "  def __init__(self, hidden_size, n_heads, head_dim, norm_epsilon, voacb_size, seq_size, n_layers):\n",
        "    super().__init__()\n",
        "\n",
        "    self.input_embedding_table = nn.Embedding(vocab_size, hidden_size)\n",
        "\n",
        "    pos_embedding_matrix = get_position_embedding(seq_size, hidden_size)\n",
        "    self.pos_embedding_table = nn.Embedding.from_pretrained(pos_embedding_matrix, freeze = True)\n",
        "\n",
        "    self.decoder_layers = nn.ModuleList()\n",
        "    for _ in range(n_layers):\n",
        "      decoder = DecoderLayer(hidden_size, n_heads, head_dim, norm_epsilon)\n",
        "      self.decoder_layers.append(decoder)\n",
        "\n",
        "\n",
        "  def forward(self, decoder_inputs, encoder_inputs, encoder_outputs):\n",
        "\n",
        "    positions = torch.arange(decoder_inputs.size(1)).expand(decoder_inputs.size(0), decoder_inputs.size(1)).contiguous() + 1\n",
        "    pos_mask = decoder_inputs.eq(0)\n",
        "    positions.masked_fill_(pos_mask, 0)\n",
        "\n",
        "    decoder_outputs = self.input_embedding_table(decoder_inputs) + self.pos_embedding_table(positions)\n",
        "\n",
        "    attention_mask = get_attention_mask(decoder_inputs)              # zero padding\n",
        "    attention_mask_for_decoder = get_attention_mask_for_decoder(decoder_inputs)   # triangular matrix\n",
        "    \n",
        "    attention_mask_for_decoder = torch.gt((attention_mask + attention_mask_for_decoder), 0)\n",
        "\n",
        "    dec_enc_attention_mask = get_attention_mask(decoder_inputs, encoder_inputs)\n",
        "    \n",
        "    attention_probs_list = []\n",
        "    dec_enc_attention_probs_list = []\n",
        "    for decoder in self.decoder_layers:\n",
        "      dec_outputs, attention_probs, dec_enc_attention_probs = decoder(decoder_outputs, encoder_outputs, attention_mask_for_decoder, dec_enc_attention_mask)\n",
        "\n",
        "      attention_probs_list.append(attention_probs)\n",
        "      dec_enc_attention_probs_list.append(dec_enc_attention_probs)\n",
        "      \n",
        "\n",
        "    return dec_outputs, attention_probs_list, dec_enc_attention_probs_list\n",
        "\n"
      ],
      "metadata": {
        "id": "F4mySWQ7wRnb"
      },
      "execution_count": null,
      "outputs": []
    },
    {
      "cell_type": "code",
      "source": [
        "\n",
        "decoder = Decoder(hidden_size, n_heads, head_dim, norm_epsilon, vocab_size, seq_size, n_layers)\n",
        "\n",
        "decoder_outputs, attention_probs = decoder(inputs, inputs, encoder_outputs)\n",
        "\n",
        "print('decoder outputs : {}'.format(decoder_outputs))\n",
        "print('attention probs : {}'.format(attention_probs))\n"
      ],
      "metadata": {
        "id": "SrX3E2u0EvW9"
      },
      "execution_count": null,
      "outputs": []
    },
    {
      "cell_type": "markdown",
      "source": [
        "## Transformer"
      ],
      "metadata": {
        "id": "W7b3gKz2I2dr"
      }
    },
    {
      "cell_type": "code",
      "source": [
        "class Transformer(nn.Module):\n",
        "  def __init__(self, hidden_size, n_heads, head_dim, norm_epsilon, vocab_size, seq_size, n_layers):\n",
        "    super().__init__()\n",
        "\n",
        "    self.encoder = Encoder(hidden_size, n_heads, head_dim, norm_epsilon, vocab_size, seq_size, n_layers)\n",
        "    self.decoder = Decoder(hidden_size, n_heads, head_dim, norm_epsilon, vocab_size, seq_size, n_layers)\n",
        "\n",
        "  def forward(self, encoder_inputs, decoder_inputs):\n",
        "\n",
        "    encoder_outputs, encoder_attention_probs_list = self.encoder(encoder_inputs)\n",
        "\n",
        "    decoder_outputs, dec_attention_probs_list, dec_enc_attention_probs_list = self.decoder(decoder_inputs, encoder_inputs, encoder_outputs)\n",
        "\n",
        "    return decoder_outputs, encoder_attention_probs_list, dec_enc_attention_probs_list\n",
        "\n"
      ],
      "metadata": {
        "id": "IEaUFD4BI4K-"
      },
      "execution_count": null,
      "outputs": []
    },
    {
      "cell_type": "code",
      "source": [
        "\n",
        "transformer = Transformer(hidden_size, n_heads, head_dim, norm_epsilon, vocab_size, seq_size, n_layers)\n",
        "\n",
        "decoder_outputs, encoder_attention_probs_list, dec_enc_attention_probs_list = transformer(inputs, inputs)\n",
        "\n",
        "\n",
        "\n",
        "# decoder_outputs, _ = torch.max(decoder_outputs, dim = 1)      # highest\n",
        "# pred = nn.Linear(hidden_size, n_classes)(decoder_outputs)     # predict\n",
        "\n"
      ],
      "metadata": {
        "id": "u2IzOym2F-Jy"
      },
      "execution_count": null,
      "outputs": []
    }
  ]
}