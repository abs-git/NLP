{
  "nbformat": 4,
  "nbformat_minor": 0,
  "metadata": {
    "colab": {
      "name": "English_Word_Embedding.ipynb",
      "provenance": [],
      "collapsed_sections": [
        "vwGBDaMynFL2"
      ],
      "authorship_tag": "ABX9TyNR0y3C4r4rZHPNZ+iLkC0R",
      "include_colab_link": true
    },
    "kernelspec": {
      "name": "python3",
      "display_name": "Python 3"
    },
    "language_info": {
      "name": "python"
    }
  },
  "cells": [
    {
      "cell_type": "markdown",
      "metadata": {
        "id": "view-in-github",
        "colab_type": "text"
      },
      "source": [
        "<a href=\"https://colab.research.google.com/github/abs-git/NLP/blob/main/English_Word_Embedding.ipynb\" target=\"_parent\"><img src=\"https://colab.research.google.com/assets/colab-badge.svg\" alt=\"Open In Colab\"/></a>"
      ]
    },
    {
      "cell_type": "code",
      "execution_count": 1,
      "metadata": {
        "colab": {
          "base_uri": "https://localhost:8080/"
        },
        "id": "q4TLkUzPZo8-",
        "outputId": "cfcac2f9-2d29-43e0-b334-394fdb804dc4"
      },
      "outputs": [
        {
          "output_type": "stream",
          "name": "stdout",
          "text": [
            "Mounted at /content/gdrive\n"
          ]
        }
      ],
      "source": [
        "from google.colab import drive\n",
        "drive.mount('/content/gdrive')"
      ]
    },
    {
      "cell_type": "code",
      "source": [
        "# glue data load\n",
        "\n",
        "path = '/content/gdrive/MyDrive/Colab Notebooks/NLP'\n",
        "\n",
        "with open(path + '/glue_train.txt', 'r') as f:\n",
        "  train_sentences = f.readlines()\n",
        "\n",
        "for i, sen in enumerate(train_sentences):\n",
        "  train_sentences[i] = sen.rstrip(\"\\n\")\n",
        "\n",
        "with open(path + '/glue_test.txt', 'r') as f:\n",
        "  test_sentences = f.readlines()\n",
        "\n",
        "for i, sen in enumerate(test_sentences):\n",
        "  test_sentences[i] = sen.rstrip(\"\\n\")\n",
        "\n",
        "print(\"train : {}\".format(len(train_sentences)))\n",
        "print(\"test : {}\".format(len(test_sentences)))\n",
        "\n",
        "print(train_sentences[:2])\n",
        "print(test_sentences[:2])\n",
        "\n",
        "\n"
      ],
      "metadata": {
        "colab": {
          "base_uri": "https://localhost:8080/"
        },
        "id": "cZOBhSBGckYR",
        "outputId": "16653680-f0e7-49d8-a893-67b573dbfcfc"
      },
      "execution_count": 2,
      "outputs": [
        {
          "output_type": "stream",
          "name": "stdout",
          "text": [
            "train : 8551\n",
            "test : 1063\n",
            "[\"Our friends won't buy this analysis, let alone the next one we propose.\", \"One more pseudo generalization and I'm giving up.\"]\n",
            "['Bill whistled past the house.', 'The car honked its way down the road.']\n"
          ]
        }
      ]
    },
    {
      "cell_type": "markdown",
      "source": [
        "## Frequency (count) based embedding"
      ],
      "metadata": {
        "id": "vwGBDaMynFL2"
      }
    },
    {
      "cell_type": "markdown",
      "source": [
        "Reference : https://datascienceschool.net/03%20machine%20learning/03.01.03%20Scikit-Learn%EC%9D%98%20%EB%AC%B8%EC%84%9C%20%EC%A0%84%EC%B2%98%EB%A6%AC%20%EA%B8%B0%EB%8A%A5.html"
      ],
      "metadata": {
        "id": "y_yZ3_DHU74B"
      }
    },
    {
      "cell_type": "code",
      "source": [
        "# Bag of Word (BoW)\n",
        "import numpy as np\n",
        "from collections import defaultdict\n",
        "\n",
        "\n",
        "tokens = []\n",
        "for sen in train_sentences[:3]:\n",
        "  \n",
        "  words = sen.split()\n",
        "  for w in words:\n",
        "    w = w.lower()\n",
        "    if w not in tokens:\n",
        "      tokens.append(w)\n",
        "\n",
        "\n",
        "vocab = defaultdict(int)\n",
        "for i, t in enumerate(tokens):\n",
        "  vocab[t] += i+1\n",
        "\n",
        "\n",
        "def BoW(sentences_list, vocab):\n",
        "\n",
        "  BoW = []\n",
        "  for sen in sentences_list:\n",
        "    sen_words = sen.split()\n",
        "    \n",
        "    temp = []\n",
        "    for t, i in vocab.items():\n",
        "      if t in sen_words:\n",
        "        count = sen_words.count(t)\n",
        "        temp.append(count)\n",
        "      else:\n",
        "        temp.append(0)\n",
        "\n",
        "    BoW.append(temp)\n",
        "\n",
        "  return BoW\n",
        "\n",
        "\n",
        "BoW = BoW(train_sentences[:3], vocab)\n",
        "\n",
        "\n",
        "print(\"sentences     : {}\".format(train_sentences[:3]))\n",
        "print(\"tokens        : {}\".format(tokens))\n",
        "print(\"vocab         : {}\".format(dict(vocab)))\n",
        "print(\"sen to vector : {}\".format(np.array(BoW)))"
      ],
      "metadata": {
        "colab": {
          "base_uri": "https://localhost:8080/"
        },
        "id": "Z_0ItQHQVmYQ",
        "outputId": "825efec4-3233-474b-af85-161292799bec"
      },
      "execution_count": 89,
      "outputs": [
        {
          "output_type": "stream",
          "name": "stdout",
          "text": [
            "sentences     : [\"Our friends won't buy this analysis, let alone the next one we propose.\", \"One more pseudo generalization and I'm giving up.\", \"One more pseudo generalization or I'm giving up.\"]\n",
            "tokens        : ['our', 'friends', \"won't\", 'buy', 'this', 'analysis,', 'let', 'alone', 'the', 'next', 'one', 'we', 'propose.', 'more', 'pseudo', 'generalization', 'and', \"i'm\", 'giving', 'up.', 'or']\n",
            "vocab         : {'our': 1, 'friends': 2, \"won't\": 3, 'buy': 4, 'this': 5, 'analysis,': 6, 'let': 7, 'alone': 8, 'the': 9, 'next': 10, 'one': 11, 'we': 12, 'propose.': 13, 'more': 14, 'pseudo': 15, 'generalization': 16, 'and': 17, \"i'm\": 18, 'giving': 19, 'up.': 20, 'or': 21}\n",
            "sen to vector : [[0 1 1 1 1 1 1 1 1 1 1 1 1 0 0 0 0 0 0 0 0]\n",
            " [0 0 0 0 0 0 0 0 0 0 0 0 0 1 1 1 1 0 1 1 0]\n",
            " [0 0 0 0 0 0 0 0 0 0 0 0 0 1 1 1 0 0 1 1 1]]\n"
          ]
        }
      ]
    },
    {
      "cell_type": "code",
      "source": [
        "from sklearn.feature_extraction.text import CountVectorizer\n",
        "\n",
        "# vectorizer = CountVectorizer(token_pattern = string)\n",
        "vectorizer = CountVectorizer()\n",
        "\n",
        "# CountVectorizer는 기본적으로 길이가 2이상인 문자만 토큰으로 인식한다.\n",
        "words_freq = vectorizer.fit_transform(train_sentences[:3]).toarray()\n",
        "\n",
        "vocab = vectorizer.vocabulary_\n",
        "\n",
        "print(\"sentences       : {}\".format(np.array(train_sentences[:3])))\n",
        "print(\"words frequency : {}\".format(words_freq))    \n",
        "print(\"vocab           : {}\".format(vocab))\n"
      ],
      "metadata": {
        "colab": {
          "base_uri": "https://localhost:8080/"
        },
        "id": "jqmt0zxScsbR",
        "outputId": "9f67bb66-ebd3-4b46-e80a-735786f1e57b"
      },
      "execution_count": 90,
      "outputs": [
        {
          "output_type": "stream",
          "name": "stdout",
          "text": [
            "sentences       : [\"Our friends won't buy this analysis, let alone the next one we propose.\"\n",
            " \"One more pseudo generalization and I'm giving up.\"\n",
            " \"One more pseudo generalization or I'm giving up.\"]\n",
            "words frequency : [[1 1 0 1 1 0 0 1 0 1 1 0 1 1 0 1 1 0 1 1]\n",
            " [0 0 1 0 0 1 1 0 1 0 1 0 0 0 1 0 0 1 0 0]\n",
            " [0 0 0 0 0 1 1 0 1 0 1 1 0 0 1 0 0 1 0 0]]\n",
            "vocab           : {'our': 12, 'friends': 4, 'won': 19, 'buy': 3, 'this': 16, 'analysis': 1, 'let': 7, 'alone': 0, 'the': 15, 'next': 9, 'one': 10, 'we': 18, 'propose': 13, 'more': 8, 'pseudo': 14, 'generalization': 5, 'and': 2, 'giving': 6, 'up': 17, 'or': 11}\n"
          ]
        }
      ]
    },
    {
      "cell_type": "code",
      "source": [
        "# TF-IDF (Term Frequency-Inverse Document Frequency, 단어 빈도-역 문서 빈도)\n",
        "from math import log\n",
        "\n",
        "class tf_idf():\n",
        "  def __init__(self, docs):\n",
        "    self.docs = docs\n",
        "    self.vocab = []\n",
        "    self.nDocs = len(docs)\n",
        "\n",
        "  def get_vocab(self):\n",
        "    \n",
        "    vocab = []\n",
        "    for doc in self.docs:\n",
        "      doc = doc.lower()\n",
        "      words = doc.split(\" \")\n",
        "\n",
        "      for w in words:\n",
        "        if w not in self.vocab:\n",
        "          self.vocab.append(w)\n",
        "\n",
        "    return self.vocab\n",
        "\n",
        "\n",
        "  def get_tfidf(self):\n",
        "\n",
        "    # df\n",
        "    df = defaultdict(int)\n",
        "    for doc in self.docs:\n",
        "      doc = doc.lower()\n",
        "      words = doc.split(\" \")\n",
        "\n",
        "      temp = []\n",
        "      for t in self.vocab:\n",
        "        if t in words:\n",
        "          df[t] += 1\n",
        "\n",
        "\n",
        "    # df -> idf\n",
        "    idf = defaultdict(int)\n",
        "    for t, df_value in df.items():\n",
        "      idf[t] = log( self.nDocs / (df_value + 1) )\n",
        "\n",
        "\n",
        "\n",
        "    tf_idf = []\n",
        "    for doc in self.docs:\n",
        "      doc = doc.lower()\n",
        "      words = doc.split(\" \")\n",
        "\n",
        "      temp = []\n",
        "      for t in self.vocab:\n",
        "        if t in words:\n",
        "          tf = words.count(t)              # tf\n",
        "          result = round(tf * idf[t], 4)\n",
        "          temp.append(result)\n",
        "\n",
        "        else:\n",
        "          temp.append(0)\n",
        "\n",
        "      tf_idf.append(temp)\n",
        "\n",
        "    \n",
        "    return tf_idf\n"
      ],
      "metadata": {
        "id": "lpUOvDBs9YuK"
      },
      "execution_count": 91,
      "outputs": []
    },
    {
      "cell_type": "code",
      "source": [
        "\n",
        "vectorizer = tf_idf(train_sentences[:4])\n",
        "\n",
        "vocab = vectorizer.get_vocab()\n",
        "print(vocab)\n",
        "\n",
        "matrix = vectorizer.get_tfidf()\n",
        "print(\"result : {}\".format(np.array(matrix)))\n",
        "\n",
        "# nDocs = 4, df = 3인 경우 log 1 -> 0 이 되기 때문에 오류가 발생하기도 한다. "
      ],
      "metadata": {
        "colab": {
          "base_uri": "https://localhost:8080/"
        },
        "id": "vPcL5c44w_XT",
        "outputId": "98816029-3c9c-4b2f-fce1-c0dac622eb4c"
      },
      "execution_count": 92,
      "outputs": [
        {
          "output_type": "stream",
          "name": "stdout",
          "text": [
            "['our', 'friends', \"won't\", 'buy', 'this', 'analysis,', 'let', 'alone', 'the', 'next', 'one', 'we', 'propose.', 'more', 'pseudo', 'generalization', 'and', \"i'm\", 'giving', 'up.', 'or', 'study', 'verbs,', 'crazier', 'they', 'get.']\n",
            "result : [[0.6931 0.6931 0.6931 0.6931 0.6931 0.6931 0.6931 0.6931 0.2877 0.6931\n",
            "  0.     0.2877 0.6931 0.     0.     0.     0.     0.     0.     0.\n",
            "  0.     0.     0.     0.     0.     0.    ]\n",
            " [0.     0.     0.     0.     0.     0.     0.     0.     0.     0.\n",
            "  0.     0.     0.     0.     0.2877 0.2877 0.6931 0.2877 0.2877 0.2877\n",
            "  0.     0.     0.     0.     0.     0.    ]\n",
            " [0.     0.     0.     0.     0.     0.     0.     0.     0.     0.\n",
            "  0.     0.     0.     0.     0.2877 0.2877 0.     0.2877 0.2877 0.2877\n",
            "  0.6931 0.     0.     0.     0.     0.    ]\n",
            " [0.     0.     0.     0.     0.     0.     0.     0.     0.5754 0.\n",
            "  0.     0.2877 0.     0.     0.     0.     0.     0.     0.     0.\n",
            "  0.     0.6931 0.6931 0.6931 0.6931 0.6931]]\n"
          ]
        }
      ]
    },
    {
      "cell_type": "code",
      "source": [
        "from sklearn.feature_extraction.text import TfidfVectorizer\n",
        "\n",
        "vectorizer = TfidfVectorizer()\n",
        "\n",
        "tfidf = vectorizer.fit_transform(train_sentences[:4]).toarray()\n",
        "vocab = vectorizer.vocabulary_\n",
        "\n",
        "print(\"sentences : {}\".format(train_sentences[0]))\n",
        "print(\"TF-IDF    : {}\".format(tfidf))\n",
        "print(\"vocab     : {}\".format(vocab))\n"
      ],
      "metadata": {
        "colab": {
          "base_uri": "https://localhost:8080/"
        },
        "id": "8iRMY5PoJ5or",
        "outputId": "0654a879-7cf6-4815-a29d-240d2f2b417f"
      },
      "execution_count": 93,
      "outputs": [
        {
          "output_type": "stream",
          "name": "stdout",
          "text": [
            "sentences : Our friends won't buy this analysis, let alone the next one we propose.\n",
            "TF-IDF    : [[0.29297188 0.29297188 0.         0.29297188 0.         0.29297188\n",
            "  0.         0.         0.         0.29297188 0.         0.29297188\n",
            "  0.18700015 0.         0.29297188 0.29297188 0.         0.\n",
            "  0.23098239 0.         0.29297188 0.         0.         0.23098239\n",
            "  0.29297188]\n",
            " [0.         0.         0.48217603 0.         0.         0.\n",
            "  0.38015312 0.         0.38015312 0.         0.30776671 0.\n",
            "  0.30776671 0.         0.         0.         0.38015312 0.\n",
            "  0.         0.         0.         0.38015312 0.         0.\n",
            "  0.        ]\n",
            " [0.         0.         0.         0.         0.         0.\n",
            "  0.38015312 0.         0.38015312 0.         0.30776671 0.\n",
            "  0.30776671 0.48217603 0.         0.         0.38015312 0.\n",
            "  0.         0.         0.         0.38015312 0.         0.\n",
            "  0.        ]\n",
            " [0.         0.         0.         0.         0.34268741 0.\n",
            "  0.         0.34268741 0.         0.         0.21873293 0.\n",
            "  0.         0.         0.         0.         0.         0.34268741\n",
            "  0.54035737 0.34268741 0.         0.         0.34268741 0.27017869\n",
            "  0.        ]]\n",
            "vocab     : {'our': 14, 'friends': 5, 'won': 24, 'buy': 3, 'this': 20, 'analysis': 1, 'let': 9, 'alone': 0, 'the': 18, 'next': 11, 'one': 12, 'we': 23, 'propose': 15, 'more': 10, 'pseudo': 16, 'generalization': 6, 'and': 2, 'giving': 8, 'up': 21, 'or': 13, 'study': 17, 'verbs': 22, 'crazier': 4, 'they': 19, 'get': 7}\n"
          ]
        }
      ]
    },
    {
      "cell_type": "markdown",
      "source": [
        "# Prediction based embedding"
      ],
      "metadata": {
        "id": "MhjAxRTfnmnF"
      }
    },
    {
      "cell_type": "markdown",
      "source": [
        "### Word2Vec"
      ],
      "metadata": {
        "id": "Uov-6_87nqLo"
      }
    },
    {
      "cell_type": "code",
      "source": [
        "# CBOW (Continuous Bag Of Words)\n",
        "# Skip-gram\n",
        "# Data processing\n",
        "\n",
        "import numpy as np\n",
        "\n",
        "\n",
        "def create_vocab(sentences_list):\n",
        "  \n",
        "  vocab = []\n",
        "  for sen in sentences_list:\n",
        "    sen = sen.lower()\n",
        "    tokens = sen.split(\" \")\n",
        "\n",
        "    for t in tokens:\n",
        "      if t not in vocab:\n",
        "        vocab.append(t)\n",
        "\n",
        "  length = len(vocab)\n",
        "  word_to_onehot = {}\n",
        "\n",
        "  for i, v in enumerate(vocab):\n",
        "    one_hot = np.zeros(length)\n",
        "    one_hot[i] = 1\n",
        "    word_to_onehot[v] = list(one_hot)\n",
        "  \n",
        "  return word_to_onehot\n",
        "\n",
        "\n",
        "def create_word2vec_dataset(sentences_list, onehot_vocab, n = 2):     # n = window size\n",
        "\n",
        "  contexts_data = []\n",
        "  centers_data = []\n",
        "  for sen in sentences_list:\n",
        "    sen = sen.lower()\n",
        "    tokens = sen.split(\" \")                     # tokenizing\n",
        "\n",
        "    for t_idx in range(n, len(tokens)-n):       # tokens[n:-n]\n",
        "      center = tokens[t_idx]\n",
        "\n",
        "      context = tokens[t_idx - n : t_idx+1 + n]\n",
        "      context.remove(center)\n",
        "\n",
        "      context_to_onehot = []\n",
        "      for c in context:\n",
        "        context_to_onehot.append(onehot_vocab[c])\n",
        "        \n",
        "      center_to_onehot = onehot_vocab[center]\n",
        "\n",
        "\n",
        "      contexts_data.append(context_to_onehot)\n",
        "      centers_data.append(center_to_onehot)\n",
        "\n",
        "  return contexts_data, centers_data\n",
        "\n",
        "\n",
        "def get_batch(contexts, centers, batch_size = 4):\n",
        "\n",
        "  iter = len(centers) // batch_size\n",
        "\n",
        "  batch = []\n",
        "  idx = 0\n",
        "  for i in range(iter):\n",
        "\n",
        "    contexts_batch = np.array(contexts[idx : idx + batch_size])\n",
        "    centers_batch = np.array(centers[idx : idx + batch_size])\n",
        "\n",
        "    batch.append((contexts_batch, centers_batch))\n",
        "\n",
        "    idx = i + batch_size\n",
        "\n",
        "  return batch\n",
        "\n",
        "\n",
        "nContext = 2\n",
        "batch_size = 4\n",
        "\n",
        "onehot_vocab = create_vocab(train_sentences)\n",
        "\n",
        "contexts, centers = create_word2vec_dataset(train_sentences[:10], onehot_vocab, nContext)\n",
        "\n",
        "word2vec_batch = get_batch(contexts, centers, batch_size)\n",
        "\n",
        "print('contexts shape : {}'.format(np.array(contexts).shape))\n",
        "print('centers shape : {}'.format(np.array(centers).shape))\n"
      ],
      "metadata": {
        "id": "-6tKXEof0xOP",
        "colab": {
          "base_uri": "https://localhost:8080/"
        },
        "outputId": "a99b7632-8d92-476f-a819-eeac04574021"
      },
      "execution_count": 68,
      "outputs": [
        {
          "output_type": "stream",
          "name": "stdout",
          "text": [
            "contexts shape : (34, 4, 7845)\n",
            "centers shape : (34, 7845)\n"
          ]
        }
      ]
    },
    {
      "cell_type": "code",
      "source": [
        "# torch CBOW\n",
        "\n",
        "import torch\n",
        "from torch import nn\n",
        "from torch.optim import SGD\n",
        "import torch.nn.functional as F\n",
        "\n",
        "\n",
        "class CBOW(nn.Module):\n",
        "  def __init__(self, vocab_size, embedding_size, context_size): \n",
        "    # 어휘 수 (onehot size), 임베딩 벡터 크기 (table size), 문맥 단어의 수 n (context number)\n",
        "    \n",
        "    super(CBOW, self).__init__()\n",
        "\n",
        "    self.vocab_size = vocab_size\n",
        "    self.embedding_size = embedding_size\n",
        "    self.context_size = context_size\n",
        "\n",
        "    self.embedding = nn.Embedding(self.vocab_size, self.embedding_size)         # lookup table / 어휘 수, 뉴런 수\n",
        "    self.linear1 = nn.Linear(2 * self.context_size * self.embedding_size, 512)\n",
        "    self.linear2 = nn.Linear(512, self.vocab_size)\n",
        "\n",
        "\n",
        "  def forward(self, inputs):   \n",
        "\n",
        "    # inputs : (Batch size, Number of context words, Onehot context)\n",
        "    # embedded : (Batch size, Number of context words, Onehot context, Onehot to embedding vector)\n",
        "    # u : (Batch size, Number of context words, Onehot to embedding vector) \n",
        "    #   ->(Batch size, Number of context words * Onehot to embedding vector)\n",
        "    # out : (Batch size, Onehot size embedding vector)\n",
        "    \n",
        "    embedded = self.embedding(inputs)\n",
        "\n",
        "    u = embedded.sum(dim = 2)\n",
        "    u = u.view(4,-1)\n",
        "\n",
        "    out = self.linear1(u)\n",
        "    out = F.relu(out)\n",
        "\n",
        "    out = self.linear2(out)\n",
        "    out = F.log_softmax(out, dim = 1)\n",
        "\n",
        "    return out\n"
      ],
      "metadata": {
        "id": "ekF0hpIN_ReF"
      },
      "execution_count": 69,
      "outputs": []
    },
    {
      "cell_type": "code",
      "source": [
        "# CBOW train\n",
        "\n",
        "vocab_size = len(onehot_vocab)      # Number of words, 7845\n",
        "embedding_size = 100                # Table size\n",
        "\n",
        "losses = []\n",
        "\n",
        "model = CBOW(vocab_size, embedding_size, nContext)\n",
        "\n",
        "criterion = nn.CrossEntropyLoss()\n",
        "optim = SGD(model.parameters(), lr=0.0001)\n",
        "\n",
        "for epoch in range(10):\n",
        "  \n",
        "  batch_loss = 0\n",
        "  for i, batch in enumerate(word2vec_batch):\n",
        "\n",
        "    contexts = torch.tensor(batch[0], dtype = torch.long)\n",
        "    centers = torch.tensor(batch[1], dtype = torch.float32)\n",
        "\n",
        "    model.zero_grad()\n",
        "    probs = model(contexts)\n",
        "\n",
        "    loss = criterion(probs, centers)\n",
        "    loss.backward()\n",
        "    optim.step()\n",
        "\n",
        "    batch_loss = batch_loss + loss.item()\n",
        "\n",
        "  print('epoch : {}, loss : {}'.format(epoch+1, batch_loss))\n",
        "  \n",
        "  losses.append(batch_loss)\n"
      ],
      "metadata": {
        "id": "x0CUYiNv6-0d",
        "colab": {
          "base_uri": "https://localhost:8080/"
        },
        "outputId": "ef8e53e5-9da4-4453-c861-25f07f5b4aad"
      },
      "execution_count": 70,
      "outputs": [
        {
          "output_type": "stream",
          "name": "stdout",
          "text": [
            "epoch : 1, loss : 14532321063.476562\n",
            "epoch : 2, loss : nan\n",
            "epoch : 3, loss : nan\n",
            "epoch : 4, loss : nan\n",
            "epoch : 5, loss : nan\n",
            "epoch : 6, loss : nan\n",
            "epoch : 7, loss : nan\n",
            "epoch : 8, loss : nan\n",
            "epoch : 9, loss : nan\n",
            "epoch : 10, loss : nan\n"
          ]
        }
      ]
    },
    {
      "cell_type": "code",
      "source": [
        "# torch Skip-gram\n",
        "\n",
        "class Skipgram(nn.Module):\n",
        "  def __init__(self, vocab_size, embedding_size, context_size): \n",
        "    # 어휘 수 (onehot size), 임베딩 벡터 크기 (table size), 문맥 단어의 수 n (context number)\n",
        "    \n",
        "    super(Skipgram, self).__init__()\n",
        "\n",
        "    self.vocab_size = vocab_size\n",
        "    self.embedding_size = embedding_size\n",
        "    self.context_size = context_size\n",
        "\n",
        "    self.embedding = nn.Embedding(self.vocab_size, self.embedding_size)         # 룩업(lookup) : 테이블 / 어휘 수, 뉴런 수\n",
        "    self.linear1 = nn.Linear(self.embedding_size, 512)\n",
        "    self.linear2 = nn.Linear(512, 2 * self.context_size * self.vocab_size)\n",
        "\n",
        "\n",
        "  def forward(self, inputs):   \n",
        "\n",
        "    # inputs : (Batch size, Onehot center)\n",
        "    # embedded : (Batch size, Onehot center, Onehot to embedding vector)\n",
        "    # u : (Batch size, Onehot to embedding vector)\n",
        "    # out : (Batch size, Onehot size embedding vector)\n",
        "    #    -> (Batch size, Number of contexts, Onehot vector)\n",
        "    \n",
        "    embedded = self.embedding(inputs)\n",
        "\n",
        "    u = embedded.sum(dim = 1)\n",
        "\n",
        "    out = self.linear1(u)\n",
        "    out = F.relu(out)\n",
        "\n",
        "    out = self.linear2(out)\n",
        "    out = F.log_softmax(out)\n",
        "\n",
        "    out = out.view(4, 2 * self.context_size, -1)\n",
        "\n",
        "    return out\n",
        "\n"
      ],
      "metadata": {
        "id": "PzbsCNU2nM46"
      },
      "execution_count": 87,
      "outputs": []
    },
    {
      "cell_type": "code",
      "source": [
        "# Skip gram train\n",
        "\n",
        "vocab_size = len(onehot_vocab)      # 7845\n",
        "embedding_size = 100\n",
        "\n",
        "losses = []\n",
        "\n",
        "model = Skipgram(vocab_size, embedding_size, nContext)\n",
        "\n",
        "criterion = nn.CrossEntropyLoss()\n",
        "optim = SGD(model.parameters(), lr=0.0001)\n",
        "\n",
        "for epoch in range(10):\n",
        "  total_loss = 0\n",
        "  for i, batch in enumerate(word2vec_batch):\n",
        "    contexts = torch.tensor(batch[0], dtype = torch.float32)\n",
        "    centers = torch.tensor(batch[1], dtype = torch.long)\n",
        "\n",
        "    model.zero_grad()\n",
        "    probs = model(centers)\n",
        "\n",
        "    loss = criterion(probs, contexts)\n",
        "    loss.backward()\n",
        "    optim.step()\n",
        "\n",
        "    batch_loss = batch_loss + loss.item()\n",
        "\n",
        "  print('epoch : {}, loss : {}'.format(epoch+1, batch_loss))\n",
        "  \n",
        "  losses.append(batch_loss)\n"
      ],
      "metadata": {
        "colab": {
          "base_uri": "https://localhost:8080/"
        },
        "id": "zHDg7lYMvm0E",
        "outputId": "5ea31299-8a13-401c-b189-7604135ccb19"
      },
      "execution_count": 88,
      "outputs": [
        {
          "output_type": "stream",
          "name": "stderr",
          "text": [
            "/usr/local/lib/python3.7/dist-packages/ipykernel_launcher.py:34: UserWarning: Implicit dimension choice for log_softmax has been deprecated. Change the call to include dim=X as an argument.\n"
          ]
        },
        {
          "output_type": "stream",
          "name": "stdout",
          "text": [
            "epoch : 1, loss : nan\n",
            "epoch : 2, loss : nan\n",
            "epoch : 3, loss : nan\n",
            "epoch : 4, loss : nan\n",
            "epoch : 5, loss : nan\n",
            "epoch : 6, loss : nan\n",
            "epoch : 7, loss : nan\n",
            "epoch : 8, loss : nan\n",
            "epoch : 9, loss : nan\n",
            "epoch : 10, loss : nan\n"
          ]
        }
      ]
    },
    {
      "cell_type": "code",
      "source": [
        "# SGNS (Skip-Gram with Negative Sampling)\n",
        "\n",
        "class SGNS(nn.Module):\n",
        "\n",
        "  def __init__(self, vocab_size, embedding_size, context_size, nNegs): \n",
        "    super(SGNS, self).__init__()\n",
        "\n",
        "    self.vocab_size = vocab_size\n",
        "    self.embedding_size = embedding_size\n",
        "    self.nNegs = nNegs\n",
        "\n",
        "  \n",
        "  def forward(self, inputs):\n",
        "    \n",
        "\n",
        "\n",
        "\n",
        "\n"
      ],
      "metadata": {
        "id": "uKXwCudfn2tl"
      },
      "execution_count": null,
      "outputs": []
    },
    {
      "cell_type": "markdown",
      "source": [
        "### FastText"
      ],
      "metadata": {
        "id": "xaJSZgeGoEDH"
      }
    },
    {
      "cell_type": "code",
      "source": [
        "# FastText\n",
        "from gensim.models import FastText\n",
        "\n",
        "model = FastText(sentences = corpus, size = 1000, window = 5, min_count = 5, workers = 4, sg = 1)\n",
        "\n",
        "\n"
      ],
      "metadata": {
        "id": "o0OoAOkaoBA9"
      },
      "execution_count": null,
      "outputs": []
    },
    {
      "cell_type": "markdown",
      "source": [
        "# Frequency + Prediction based embedding"
      ],
      "metadata": {
        "id": "YzeU2i3-oLga"
      }
    },
    {
      "cell_type": "code",
      "source": [
        "# GloVe\n",
        "\n",
        "\n"
      ],
      "metadata": {
        "id": "Ht8mx87doQFP"
      },
      "execution_count": null,
      "outputs": []
    },
    {
      "cell_type": "markdown",
      "source": [
        "# Language model based embedding"
      ],
      "metadata": {
        "id": "K_bCICzboV1T"
      }
    },
    {
      "cell_type": "code",
      "source": [
        "# ELMo\n",
        "\n",
        "\n",
        "\n"
      ],
      "metadata": {
        "id": "ppvivMN5oTd4"
      },
      "execution_count": null,
      "outputs": []
    }
  ]
}