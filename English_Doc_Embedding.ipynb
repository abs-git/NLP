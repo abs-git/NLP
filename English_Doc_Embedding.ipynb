{
  "nbformat": 4,
  "nbformat_minor": 0,
  "metadata": {
    "colab": {
      "name": "English_Doc_Embedding.ipynb",
      "provenance": [],
      "collapsed_sections": [],
      "authorship_tag": "ABX9TyMcYlYNrI+JHpqBEOWhXnpe",
      "include_colab_link": true
    },
    "kernelspec": {
      "name": "python3",
      "display_name": "Python 3"
    },
    "language_info": {
      "name": "python"
    }
  },
  "cells": [
    {
      "cell_type": "markdown",
      "metadata": {
        "id": "view-in-github",
        "colab_type": "text"
      },
      "source": [
        "<a href=\"https://colab.research.google.com/github/abs-git/NLP/blob/main/English_Doc_Embedding.ipynb\" target=\"_parent\"><img src=\"https://colab.research.google.com/assets/colab-badge.svg\" alt=\"Open In Colab\"/></a>"
      ]
    },
    {
      "cell_type": "code",
      "execution_count": 1,
      "metadata": {
        "colab": {
          "base_uri": "https://localhost:8080/"
        },
        "id": "X_5hrEdsrEuU",
        "outputId": "605a9c5b-9e2e-4cb7-9aaf-95d3c6015556"
      },
      "outputs": [
        {
          "output_type": "stream",
          "name": "stdout",
          "text": [
            "Mounted at /content/gdrive\n"
          ]
        }
      ],
      "source": [
        "from google.colab import drive\n",
        "drive.mount('/content/gdrive')"
      ]
    },
    {
      "cell_type": "code",
      "source": [
        "# glue data load\n",
        "\n",
        "path = '/content/gdrive/MyDrive/Colab Notebooks/NLP'\n",
        "\n",
        "with open(path + '/glue_train.txt', 'r') as f:\n",
        "  train_sentences = f.readlines()\n",
        "\n",
        "for i, sen in enumerate(train_sentences):\n",
        "  train_sentences[i] = sen.rstrip(\"\\n\")\n",
        "\n",
        "with open(path + '/glue_test.txt', 'r') as f:\n",
        "  test_sentences = f.readlines()\n",
        "\n",
        "for i, sen in enumerate(test_sentences):\n",
        "  test_sentences[i] = sen.rstrip(\"\\n\")\n",
        "\n",
        "print(\"train : {}\".format(len(train_sentences)))\n",
        "print(\"test : {}\".format(len(test_sentences)))\n",
        "\n",
        "print(train_sentences[:2])\n",
        "print(test_sentences[:2])\n",
        "\n"
      ],
      "metadata": {
        "colab": {
          "base_uri": "https://localhost:8080/"
        },
        "id": "FZ8sK_L2rLvO",
        "outputId": "eb0988e5-d62e-4272-96b3-8639043272af"
      },
      "execution_count": 2,
      "outputs": [
        {
          "output_type": "stream",
          "name": "stdout",
          "text": [
            "train : 8551\n",
            "test : 1063\n",
            "[\"Our friends won't buy this analysis, let alone the next one we propose.\", \"One more pseudo generalization and I'm giving up.\"]\n",
            "['Bill whistled past the house.', 'The car honked its way down the road.']\n"
          ]
        }
      ]
    },
    {
      "cell_type": "markdown",
      "source": [
        "# Frequency based embedding"
      ],
      "metadata": {
        "id": "1aH7uwtd9maK"
      }
    },
    {
      "cell_type": "markdown",
      "source": [
        "### LSA (Latent Semantic Analysis)"
      ],
      "metadata": {
        "id": "CsPwT-Eg-Ie9"
      }
    },
    {
      "cell_type": "code",
      "source": [
        "# LSA (Latent Semantic Analysis, 잠재 의미 분석)"
      ],
      "metadata": {
        "id": "bljGGBjurSNs"
      },
      "execution_count": null,
      "outputs": []
    },
    {
      "cell_type": "markdown",
      "source": [
        "### LDA (Latent Dirichlet Allocation)"
      ],
      "metadata": {
        "id": "rM_RnlnV-SFF"
      }
    },
    {
      "cell_type": "code",
      "source": [
        "# LDA (Latent Dirichlet Allocation, 잠재 디리클레 할당)"
      ],
      "metadata": {
        "id": "6qlLpK2Z9tuR"
      },
      "execution_count": null,
      "outputs": []
    },
    {
      "cell_type": "markdown",
      "source": [
        "# Prediction based embedding"
      ],
      "metadata": {
        "id": "BH7cN5wq-Z-G"
      }
    },
    {
      "cell_type": "code",
      "source": [
        "# Sent2Vec (Sentence to vector)"
      ],
      "metadata": {
        "id": "FYdDvaEk-Y_A"
      },
      "execution_count": null,
      "outputs": []
    },
    {
      "cell_type": "code",
      "source": [
        "# Doc2Vec (Document to vector)"
      ],
      "metadata": {
        "id": "g0Rkt_87-tll"
      },
      "execution_count": null,
      "outputs": []
    }
  ]
}